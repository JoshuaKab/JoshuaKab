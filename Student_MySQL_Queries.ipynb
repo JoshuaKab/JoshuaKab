{
  "metadata": {
    "language_info": {
      "codemirror_mode": "sql",
      "file_extension": "",
      "mimetype": "",
      "name": "sql",
      "version": "3.32.3"
    },
    "kernelspec": {
      "name": "SQLite",
      "display_name": "SQLite",
      "language": "sql"
    }
  },
  "nbformat_minor": 4,
  "nbformat": 4,
  "cells": [
    {
      "cell_type": "code",
      "source": "select * from student",
      "metadata": {
        "trusted": true
      },
      "execution_count": 94,
      "outputs": [
        {
          "execution_count": 94,
          "output_type": "execute_result",
          "data": {
            "text/html": "<table>\n<tr>\n<th>id</th>\n<th>name</th>\n<th>last_name</th>\n<th>birthdate</th>\n<th>gender</th>\n<th>city</th>\n</tr>\n<tr>\n<td>4401</td>\n<td>Christ</td>\n<td>Fisher</td>\n<td>2000-01-20</td>\n<td>Male</td>\n<td>Cape town</td>\n</tr>\n<tr>\n<td>4402</td>\n<td>Chaerle</td>\n<td>Walke</td>\n<td>1989-05-01</td>\n<td>Male</td>\n<td>Wymberg</td>\n</tr>\n<tr>\n<td>4403</td>\n<td>\tJohn</td>\n<td>Talovam</td>\n<td>1990-01-7</td>\n<td>Male</td>\n<td>Cape town</td>\n</tr>\n<tr>\n<td>4404</td>\n<td>Helene</td>\n<td>Tambwe</td>\n<td>1999-07-12</td>\n<td>Female</td>\n<td>Toronto</td>\n</tr>\n<tr>\n<td>4405</td>\n<td>Ashley</td>\n<td>Johnson</td>\n<td>1994-04-11</td>\n<td>Male</td>\n<td>Albany</td>\n</tr>\n<tr>\n<td>4406</td>\n<td>Janice</td>\n<td>Rocky</td>\n<td>1997-03-17</td>\n<td>Female</td>\n<td>Paris</td>\n</tr>\n<tr>\n<td>4407</td>\n<td>Zoe</td>\n<td>Kab</td>\n<td>2000-05-22</td>\n<td>Female</td>\n<td>New york</td>\n</tr>\n<tr>\n<td>4408</td>\n<td>Sarah</td>\n<td>Monro</td>\n<td>2003-04-05</td>\n<td>Female</td>\n<td>Montreal</td>\n</tr>\n<tr>\n<td>4409</td>\n<td>William</td>\n<td>Peterson</td>\n<td>1998-09-29</td>\n<td>Male</td>\n<td>Chicago</td>\n</tr>\n<tr>\n<td>4410</td>\n<td>Matthew</td>\n<td>Josue</td>\n<td>2005-06-20</td>\n<td>Male</td>\n<td>Texas</td>\n</tr>\n</table>",
            "text/plain": "+------+---------+-----------+------------+--------+-----------+\n| id   | name    | last_name | birthdate  | gender | city      |\n+------+---------+-----------+------------+--------+-----------+\n| 4401 | Christ  | Fisher    | 2000-01-20 | Male   | Cape town |\n+------+---------+-----------+------------+--------+-----------+\n| 4402 | Chaerle | Walke     | 1989-05-01 | Male   | Wymberg   |\n+------+---------+-----------+------------+--------+-----------+\n| 4403 | John    | Talovam   | 1990-01-7  | Male   | Cape town |\n+------+---------+-----------+------------+--------+-----------+\n| 4404 | Helene  | Tambwe    | 1999-07-12 | Female | Toronto   |\n+------+---------+-----------+------------+--------+-----------+\n| 4405 | Ashley  | Johnson   | 1994-04-11 | Male   | Albany    |\n+------+---------+-----------+------------+--------+-----------+\n| 4406 | Janice  | Rocky     | 1997-03-17 | Female | Paris     |\n+------+---------+-----------+------------+--------+-----------+\n| 4407 | Zoe     | Kab       | 2000-05-22 | Female | New york  |\n+------+---------+-----------+------------+--------+-----------+\n| 4408 | Sarah   | Monro     | 2003-04-05 | Female | Montreal  |\n+------+---------+-----------+------------+--------+-----------+\n| 4409 | William | Peterson  | 1998-09-29 | Male   | Chicago   |\n+------+---------+-----------+------------+--------+-----------+\n| 4410 | Matthew | Josue     | 2005-06-20 | Male   | Texas     |\n+------+---------+-----------+------------+--------+-----------+"
          },
          "metadata": {}
        }
      ]
    },
    {
      "cell_type": "code",
      "source": "select * from score",
      "metadata": {
        "trusted": true
      },
      "execution_count": 122,
      "outputs": [
        {
          "execution_count": 122,
          "output_type": "execute_result",
          "data": {
            "text/html": "<table>\n<tr>\n<th>course_id</th>\n<th>email</th>\n<th>continent</th>\n<th>score</th>\n</tr>\n<tr>\n<td>501</td>\n<td>info@hou.com</td>\n<td>Africa</td>\n<td>69</td>\n</tr>\n<tr>\n<td>502</td>\n<td>indf@gmail.com</td>\n<td>Africa</td>\n<td>73</td>\n</tr>\n<tr>\n<td>503</td>\n<td>info@gmail.com</td>\n<td>Africa</td>\n<td>89</td>\n</tr>\n<tr>\n<td>504</td>\n<td>ghs@hahoo.com</td>\n<td>Canada</td>\n<td>75</td>\n</tr>\n<tr>\n<td>505</td>\n<td>yull@gmail.com</td>\n<td>USA</td>\n<td>87</td>\n</tr>\n<tr>\n<td>506</td>\n<td>info@outlook.com</td>\n<td>Europ</td>\n<td>79</td>\n</tr>\n<tr>\n<td>507</td>\n<td>ind@gmail.com</td>\n<td>USA</td>\n<td>77</td>\n</tr>\n<tr>\n<td>508</td>\n<td>mai@gmai.com</td>\n<td>Canada</td>\n<td>86</td>\n</tr>\n<tr>\n<td>509</td>\n<td>info@out.com</td>\n<td>USA</td>\n<td>81</td>\n</tr>\n<tr>\n<td>510</td>\n<td>info@gmail.com</td>\n<td>USA</td>\n<td>78</td>\n</tr>\n</table>",
            "text/plain": "+-----------+------------------+-----------+-------+\n| course_id | email            | continent | score |\n+-----------+------------------+-----------+-------+\n| 501       | info@hou.com     | Africa    | 69    |\n+-----------+------------------+-----------+-------+\n| 502       | indf@gmail.com   | Africa    | 73    |\n+-----------+------------------+-----------+-------+\n| 503       | info@gmail.com   | Africa    | 89    |\n+-----------+------------------+-----------+-------+\n| 504       | ghs@hahoo.com    | Canada    | 75    |\n+-----------+------------------+-----------+-------+\n| 505       | yull@gmail.com   | USA       | 87    |\n+-----------+------------------+-----------+-------+\n| 506       | info@outlook.com | Europ     | 79    |\n+-----------+------------------+-----------+-------+\n| 507       | ind@gmail.com    | USA       | 77    |\n+-----------+------------------+-----------+-------+\n| 508       | mai@gmai.com     | Canada    | 86    |\n+-----------+------------------+-----------+-------+\n| 509       | info@out.com     | USA       | 81    |\n+-----------+------------------+-----------+-------+\n| 510       | info@gmail.com   | USA       | 78    |\n+-----------+------------------+-----------+-------+"
          },
          "metadata": {}
        }
      ]
    },
    {
      "cell_type": "code",
      "source": "select * from course",
      "metadata": {
        "trusted": true
      },
      "execution_count": 121,
      "outputs": [
        {
          "execution_count": 121,
          "output_type": "execute_result",
          "data": {
            "text/html": "<table>\n<tr>\n<th>id</th>\n<th>age</th>\n<th>course</th>\n<th>fees</th>\n<th>course_id</th>\n</tr>\n<tr>\n<td>4401</td>\n<td>23</td>\n<td>Data science</td>\n<td>17000</td>\n<td>501</td>\n</tr>\n<tr>\n<td>4402</td>\n<td>34</td>\n<td>Statistic</td>\n<td>15000</td>\n<td>502</td>\n</tr>\n<tr>\n<td>4403</td>\n<td>33</td>\n<td>Statistic</td>\n<td>9800</td>\n<td>503</td>\n</tr>\n<tr>\n<td>4404</td>\n<td>24</td>\n<td>Data analytics</td>\n<td>15000</td>\n<td>504</td>\n</tr>\n<tr>\n<td>4405</td>\n<td>29</td>\n<td>Data mining</td>\n<td>12000</td>\n<td>505</td>\n</tr>\n<tr>\n<td>4406</td>\n<td>26</td>\n<td>Data science </td>\n<td>11500</td>\n<td>506</td>\n</tr>\n<tr>\n<td>4407</td>\n<td>22</td>\n<td>Data science</td>\n<td>17800</td>\n<td>507</td>\n</tr>\n<tr>\n<td>4408</td>\n<td>20</td>\n<td>Programming </td>\n<td>8500</td>\n<td>508</td>\n</tr>\n<tr>\n<td>4409</td>\n<td>25</td>\n<td>Data analytics</td>\n<td>10500</td>\n<td>509</td>\n</tr>\n<tr>\n<td>4410</td>\n<td>18</td>\n<td>Data engeneering</td>\n<td>11800</td>\n<td>510</td>\n</tr>\n</table>",
            "text/plain": "+------+-----+------------------+-------+-----------+\n| id   | age | course           | fees  | course_id |\n+------+-----+------------------+-------+-----------+\n| 4401 | 23  | Data science     | 17000 | 501       |\n+------+-----+------------------+-------+-----------+\n| 4402 | 34  | Statistic        | 15000 | 502       |\n+------+-----+------------------+-------+-----------+\n| 4403 | 33  | Statistic        | 9800  | 503       |\n+------+-----+------------------+-------+-----------+\n| 4404 | 24  | Data analytics   | 15000 | 504       |\n+------+-----+------------------+-------+-----------+\n| 4405 | 29  | Data mining      | 12000 | 505       |\n+------+-----+------------------+-------+-----------+\n| 4406 | 26  | Data science     | 11500 | 506       |\n+------+-----+------------------+-------+-----------+\n| 4407 | 22  | Data science     | 17800 | 507       |\n+------+-----+------------------+-------+-----------+\n| 4408 | 20  | Programming      | 8500  | 508       |\n+------+-----+------------------+-------+-----------+\n| 4409 | 25  | Data analytics   | 10500 | 509       |\n+------+-----+------------------+-------+-----------+\n| 4410 | 18  | Data engeneering | 11800 | 510       |\n+------+-----+------------------+-------+-----------+"
          },
          "metadata": {}
        }
      ]
    },
    {
      "cell_type": "code",
      "source": "SELECT COUNT(distinct st.id) as student_id,\n       COUNT(distinct sc.continent) as continent,\n       COUNT(distinct st.city) as city,\n       COUNT(distinct co.course) as course\n        \nFROM student as st\nJOIN course as co ON st.id = co.id\nLEFT JOIN score as sc ON sc.course_id = co.course_id\n\n       ",
      "metadata": {
        "trusted": true
      },
      "execution_count": 97,
      "outputs": [
        {
          "execution_count": 97,
          "output_type": "execute_result",
          "data": {
            "text/html": "<table>\n<tr>\n<th>student_id</th>\n<th>continent</th>\n<th>city</th>\n<th>course</th>\n</tr>\n<tr>\n<td>10</td>\n<td>4</td>\n<td>9</td>\n<td>7</td>\n</tr>\n</table>",
            "text/plain": "+------------+-----------+------+--------+\n| student_id | continent | city | course |\n+------------+-----------+------+--------+\n| 10         | 4         | 9    | 7      |\n+------------+-----------+------+--------+"
          },
          "metadata": {}
        }
      ]
    },
    {
      "cell_type": "code",
      "source": "--which continent having most of the student?\n\nSELECT continent,\nCOUNT(continent) as COUNT\nFROM score\nGROUP BY continent \nHAVING count(continent) > 1\n",
      "metadata": {
        "trusted": true
      },
      "execution_count": 98,
      "outputs": [
        {
          "execution_count": 98,
          "output_type": "execute_result",
          "data": {
            "text/html": "<table>\n<tr>\n<th>continent</th>\n<th>COUNT</th>\n</tr>\n<tr>\n<td>Africa</td>\n<td>3</td>\n</tr>\n<tr>\n<td>Canada</td>\n<td>2</td>\n</tr>\n<tr>\n<td>USA</td>\n<td>4</td>\n</tr>\n</table>",
            "text/plain": "+-----------+-------+\n| continent | COUNT |\n+-----------+-------+\n| Africa    | 3     |\n+-----------+-------+\n| Canada    | 2     |\n+-----------+-------+\n| USA       | 4     |\n+-----------+-------+"
          },
          "metadata": {}
        }
      ]
    },
    {
      "cell_type": "code",
      "source": "-- what's the average score of studend\nSELECT \n     ROUND(AVG(score),2) as AVG_score\nFROM score ",
      "metadata": {
        "trusted": true
      },
      "execution_count": 116,
      "outputs": [
        {
          "execution_count": 116,
          "output_type": "execute_result",
          "data": {
            "text/html": "<table>\n<tr>\n<th>AVG_score</th>\n</tr>\n<tr>\n<td>79.4</td>\n</tr>\n</table>",
            "text/plain": "+-----------+\n| AVG_score |\n+-----------+\n| 79.4      |\n+-----------+"
          },
          "metadata": {}
        }
      ]
    },
    {
      "cell_type": "code",
      "source": "--Average score per continent\n\nSELECT sc.continent,\n     ROUND(AVG(sc.score),2) as AVG_score\nFROM student as st\nJOIN course as co ON st.id = co.id\nLEFT JOIN score as sc ON sc.course_id = co.course_id\nGROUP BY sc.continent\nORDER BY AVG_score DESC\n-- Student from US are on the  top list of student with high score",
      "metadata": {
        "trusted": true
      },
      "execution_count": 117,
      "outputs": [
        {
          "execution_count": 117,
          "output_type": "execute_result",
          "data": {
            "text/html": "<table>\n<tr>\n<th>continent</th>\n<th>AVG_score</th>\n</tr>\n<tr>\n<td>USA</td>\n<td>80.75</td>\n</tr>\n<tr>\n<td>Canada</td>\n<td>80.5</td>\n</tr>\n<tr>\n<td>Europ</td>\n<td>79.0</td>\n</tr>\n<tr>\n<td>Africa</td>\n<td>77.0</td>\n</tr>\n</table>",
            "text/plain": "+-----------+-----------+\n| continent | AVG_score |\n+-----------+-----------+\n| USA       | 80.75     |\n+-----------+-----------+\n| Canada    | 80.5      |\n+-----------+-----------+\n| Europ     | 79.0      |\n+-----------+-----------+\n| Africa    | 77.0      |\n+-----------+-----------+"
          },
          "metadata": {}
        }
      ]
    },
    {
      "cell_type": "code",
      "source": "--- Let's manupilate the cte statement and see the performance of the student with case statement\n\n\nWITH cte AS (SELECT st.name, st.last_name, co.course,\n\t   CASE WHEN sc.score = 90 then 'A+'\n\t\tWHEN sc.score between 80 and 90 Then 'A'\n\t\tWHEN sc.score between 70 and 80 then 'B'\n\t\tELSE 'C' END AS performance\nFROM student as st\nJOIN course as co\nON st.id = co.id\nLEFT JOIN score as sc\nON sc.course_id = co.course_id)\n\nSELECT  *\nFROM cte\nWHERE performance = 'A'\n",
      "metadata": {
        "trusted": true
      },
      "execution_count": 144,
      "outputs": [
        {
          "execution_count": 144,
          "output_type": "execute_result",
          "data": {
            "text/html": "<table>\n<tr>\n<th>name</th>\n<th>last_name</th>\n<th>course</th>\n<th>performance</th>\n</tr>\n<tr>\n<td>\tJohn</td>\n<td>Talovam</td>\n<td>Statistic</td>\n<td>A</td>\n</tr>\n<tr>\n<td>Ashley</td>\n<td>Johnson</td>\n<td>Data mining</td>\n<td>A</td>\n</tr>\n<tr>\n<td>Sarah</td>\n<td>Monro</td>\n<td>Programming </td>\n<td>A</td>\n</tr>\n<tr>\n<td>William</td>\n<td>Peterson</td>\n<td>Data analytics</td>\n<td>A</td>\n</tr>\n</table>",
            "text/plain": "+---------+-----------+----------------+-------------+\n| name    | last_name | course         | performance |\n+---------+-----------+----------------+-------------+\n| John    | Talovam   | Statistic      | A           |\n+---------+-----------+----------------+-------------+\n| Ashley  | Johnson   | Data mining    | A           |\n+---------+-----------+----------------+-------------+\n| Sarah   | Monro     | Programming    | A           |\n+---------+-----------+----------------+-------------+\n| William | Peterson  | Data analytics | A           |\n+---------+-----------+----------------+-------------+"
          },
          "metadata": {}
        }
      ]
    },
    {
      "cell_type": "code",
      "source": "--- student with score above the average\n\nSELECT st.name, st.last_name, sc.score\n      FROM student as st\nJOIN course as co ON co.id = st.id\nLEFT JOIN score sc ON sc.course_id = co.course_id\nWHERE score > (SELECT AVG(sc.score) from score AS sc)\n\n",
      "metadata": {
        "trusted": true
      },
      "execution_count": 145,
      "outputs": [
        {
          "execution_count": 145,
          "output_type": "execute_result",
          "data": {
            "text/html": "<table>\n<tr>\n<th>name</th>\n<th>last_name</th>\n<th>score</th>\n</tr>\n<tr>\n<td>\tJohn</td>\n<td>Talovam</td>\n<td>89</td>\n</tr>\n<tr>\n<td>Ashley</td>\n<td>Johnson</td>\n<td>87</td>\n</tr>\n<tr>\n<td>Sarah</td>\n<td>Monro</td>\n<td>86</td>\n</tr>\n<tr>\n<td>William</td>\n<td>Peterson</td>\n<td>81</td>\n</tr>\n</table>",
            "text/plain": "+---------+-----------+-------+\n| name    | last_name | score |\n+---------+-----------+-------+\n| John    | Talovam   | 89    |\n+---------+-----------+-------+\n| Ashley  | Johnson   | 87    |\n+---------+-----------+-------+\n| Sarah   | Monro     | 86    |\n+---------+-----------+-------+\n| William | Peterson  | 81    |\n+---------+-----------+-------+"
          },
          "metadata": {}
        }
      ]
    },
    {
      "cell_type": "code",
      "source": "---what's the avg COURSE fees per continent\n\nSELECT sc.continent,\n     ROUND(AVG(co.fees),2) as AVG_Fees\nFROM student as st\nJOIN course as co ON st.id = co.id\nLEFT JOIN score as sc ON sc.course_id = co.course_id\nGROUP BY sc.continent\nORDER BY AVG_Fees DESC",
      "metadata": {
        "trusted": true
      },
      "execution_count": 146,
      "outputs": [
        {
          "execution_count": 146,
          "output_type": "execute_result",
          "data": {
            "text/html": "<table>\n<tr>\n<th>continent</th>\n<th>AVG_Fees</th>\n</tr>\n<tr>\n<td>Africa</td>\n<td>13933.33</td>\n</tr>\n<tr>\n<td>USA</td>\n<td>13025.0</td>\n</tr>\n<tr>\n<td>Canada</td>\n<td>11750.0</td>\n</tr>\n<tr>\n<td>Europ</td>\n<td>11500.0</td>\n</tr>\n</table>",
            "text/plain": "+-----------+----------+\n| continent | AVG_Fees |\n+-----------+----------+\n| Africa    | 13933.33 |\n+-----------+----------+\n| USA       | 13025.0  |\n+-----------+----------+\n| Canada    | 11750.0  |\n+-----------+----------+\n| Europ     | 11500.0  |\n+-----------+----------+"
          },
          "metadata": {}
        }
      ]
    },
    {
      "cell_type": "code",
      "source": "SELECT st.name, st.last_name, sc.score, co.fees\n      FROM student as st\nJOIN course as co ON co.id = st.id\nLEFT JOIN score sc ON sc.course_id = co.course_id\nWHERE score > (SELECT AVG(sc.score) from score AS sc)\n",
      "metadata": {
        "trusted": true
      },
      "execution_count": 147,
      "outputs": [
        {
          "execution_count": 147,
          "output_type": "execute_result",
          "data": {
            "text/html": "<table>\n<tr>\n<th>name</th>\n<th>last_name</th>\n<th>score</th>\n<th>fees</th>\n</tr>\n<tr>\n<td>\tJohn</td>\n<td>Talovam</td>\n<td>89</td>\n<td>9800</td>\n</tr>\n<tr>\n<td>Ashley</td>\n<td>Johnson</td>\n<td>87</td>\n<td>12000</td>\n</tr>\n<tr>\n<td>Sarah</td>\n<td>Monro</td>\n<td>86</td>\n<td>8500</td>\n</tr>\n<tr>\n<td>William</td>\n<td>Peterson</td>\n<td>81</td>\n<td>10500</td>\n</tr>\n</table>",
            "text/plain": "+---------+-----------+-------+-------+\n| name    | last_name | score | fees  |\n+---------+-----------+-------+-------+\n| John    | Talovam   | 89    | 9800  |\n+---------+-----------+-------+-------+\n| Ashley  | Johnson   | 87    | 12000 |\n+---------+-----------+-------+-------+\n| Sarah   | Monro     | 86    | 8500  |\n+---------+-----------+-------+-------+\n| William | Peterson  | 81    | 10500 |\n+---------+-----------+-------+-------+"
          },
          "metadata": {}
        }
      ]
    },
    {
      "cell_type": "code",
      "source": "---what's the avg COURSE fees per continent\n\nSELECT co.course,\n     ROUND(AVG(co.fees),2) as AVG_Fees\nFROM student as st\nJOIN course as co ON st.id = co.id\nLEFT JOIN score as sc ON sc.course_id = co.course_id\nGROUP BY co.course\nORDER BY AVG_Fees DESC",
      "metadata": {
        "trusted": true
      },
      "execution_count": 149,
      "outputs": [
        {
          "execution_count": 149,
          "output_type": "execute_result",
          "data": {
            "text/html": "<table>\n<tr>\n<th>course</th>\n<th>AVG_Fees</th>\n</tr>\n<tr>\n<td>Data science</td>\n<td>17400.0</td>\n</tr>\n<tr>\n<td>Data analytics</td>\n<td>12750.0</td>\n</tr>\n<tr>\n<td>Statistic</td>\n<td>12400.0</td>\n</tr>\n<tr>\n<td>Data mining</td>\n<td>12000.0</td>\n</tr>\n<tr>\n<td>Data engeneering</td>\n<td>11800.0</td>\n</tr>\n<tr>\n<td>Data science </td>\n<td>11500.0</td>\n</tr>\n<tr>\n<td>Programming </td>\n<td>8500.0</td>\n</tr>\n</table>",
            "text/plain": "+------------------+----------+\n| course           | AVG_Fees |\n+------------------+----------+\n| Data science     | 17400.0  |\n+------------------+----------+\n| Data analytics   | 12750.0  |\n+------------------+----------+\n| Statistic        | 12400.0  |\n+------------------+----------+\n| Data mining      | 12000.0  |\n+------------------+----------+\n| Data engeneering | 11800.0  |\n+------------------+----------+\n| Data science     | 11500.0  |\n+------------------+----------+\n| Programming      | 8500.0   |\n+------------------+----------+"
          },
          "metadata": {}
        }
      ]
    },
    {
      "cell_type": "code",
      "source": "SELECT co.course,\n     ROUND(MIN(co.fees),2) as MIN_Fees,\n     ROUND(AVG(co.fees),2) as AVG_Fees,\n     ROUND(MAX(co.fees),2) as MAX_Fees\nFROM student as st\nJOIN course as co ON st.id = co.id\nLEFT JOIN score as sc ON sc.course_id = co.course_id\nwhere\n    co.course in (select *\n                      FROM course as co\n                        where course like \"%Data%\")\n",
      "metadata": {
        "trusted": true
      },
      "execution_count": 163,
      "outputs": [
        {
          "ename": "Error",
          "evalue": "sub-select returns 5 columns - expected 1",
          "traceback": [
            "Error: sub-select returns 5 columns - expected 1"
          ],
          "output_type": "error"
        }
      ]
    },
    {
      "cell_type": "code",
      "source": "select *\n  FROM course \nwhere course like \"%Data%\"",
      "metadata": {
        "trusted": true
      },
      "execution_count": 164,
      "outputs": [
        {
          "execution_count": 164,
          "output_type": "execute_result",
          "data": {
            "text/html": "<table>\n<tr>\n<th>id</th>\n<th>age</th>\n<th>course</th>\n<th>fees</th>\n<th>course_id</th>\n</tr>\n<tr>\n<td>4401</td>\n<td>23</td>\n<td>Data science</td>\n<td>17000</td>\n<td>501</td>\n</tr>\n<tr>\n<td>4404</td>\n<td>24</td>\n<td>Data analytics</td>\n<td>15000</td>\n<td>504</td>\n</tr>\n<tr>\n<td>4405</td>\n<td>29</td>\n<td>Data mining</td>\n<td>12000</td>\n<td>505</td>\n</tr>\n<tr>\n<td>4406</td>\n<td>26</td>\n<td>Data science </td>\n<td>11500</td>\n<td>506</td>\n</tr>\n<tr>\n<td>4407</td>\n<td>22</td>\n<td>Data science</td>\n<td>17800</td>\n<td>507</td>\n</tr>\n<tr>\n<td>4409</td>\n<td>25</td>\n<td>Data analytics</td>\n<td>10500</td>\n<td>509</td>\n</tr>\n<tr>\n<td>4410</td>\n<td>18</td>\n<td>Data engeneering</td>\n<td>11800</td>\n<td>510</td>\n</tr>\n</table>",
            "text/plain": "+------+-----+------------------+-------+-----------+\n| id   | age | course           | fees  | course_id |\n+------+-----+------------------+-------+-----------+\n| 4401 | 23  | Data science     | 17000 | 501       |\n+------+-----+------------------+-------+-----------+\n| 4404 | 24  | Data analytics   | 15000 | 504       |\n+------+-----+------------------+-------+-----------+\n| 4405 | 29  | Data mining      | 12000 | 505       |\n+------+-----+------------------+-------+-----------+\n| 4406 | 26  | Data science     | 11500 | 506       |\n+------+-----+------------------+-------+-----------+\n| 4407 | 22  | Data science     | 17800 | 507       |\n+------+-----+------------------+-------+-----------+\n| 4409 | 25  | Data analytics   | 10500 | 509       |\n+------+-----+------------------+-------+-----------+\n| 4410 | 18  | Data engeneering | 11800 | 510       |\n+------+-----+------------------+-------+-----------+"
          },
          "metadata": {}
        }
      ]
    },
    {
      "cell_type": "code",
      "source": "",
      "metadata": {},
      "execution_count": null,
      "outputs": []
    },
    {
      "cell_type": "code",
      "source": "",
      "metadata": {},
      "execution_count": null,
      "outputs": []
    }
  ]
}