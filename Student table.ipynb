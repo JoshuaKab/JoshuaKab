{
  "metadata": {
    "kernelspec": {
      "display_name": "SQLite",
      "language": "sql",
      "name": "SQLite"
    },
    "language_info": {
      "codemirror_mode": "sql",
      "file_extension": "",
      "mimetype": "",
      "name": "sql",
      "version": "3.32.3"
    }
  },
  "nbformat_minor": 4,
  "nbformat": 4,
  "cells": [
    {
      "cell_type": "code",
      "source": "%CREATE example_db.db",
      "metadata": {
        "trusted": true
      },
      "execution_count": 1,
      "outputs": []
    },
    {
      "cell_type": "markdown",
      "source": "## Create Student Tables\n\nTables are created and populated using SQL:",
      "metadata": {}
    },
    {
      "cell_type": "code",
      "source": "\n\n\n\n--- student table\n\nCREATE TABLE student(\n id INT NOT NULL,\n name VARCHAR(200) NOT NULL,\n last_name VARCHAR(200) NOT NULL,\n birthdate DATE NOT NULL,\n gender VARCHAR (10) NOT NULL ,\n city VARCHAR (20 ) NOT NULL,\n  PRIMARY KEY (id)\n  \n )\n",
      "metadata": {
        "trusted": true
      },
      "execution_count": 165,
      "outputs": [
        {
          "ename": "Error",
          "evalue": "table student already exists",
          "traceback": [
            "Error: table student already exists"
          ],
          "output_type": "error"
        }
      ]
    },
    {
      "cell_type": "code",
      "source": "\n--course table\n\nCREATE TABLE course(\n id INT  NOT NULL,\n age INT  NOT NULL,\ncourse VARCHAR(200) NOT NULL,\nfees INT  NOT NULL,\ncourse_id INT,\nPRIMARY KEY (id)\n )",
      "metadata": {
        "trusted": true
      },
      "execution_count": 86,
      "outputs": [
        {
          "ename": "Error",
          "evalue": "table course already exists",
          "traceback": [
            "Error: table course already exists"
          ],
          "output_type": "error"
        }
      ]
    },
    {
      "cell_type": "code",
      "source": "---score table\n\nCREATE TABLE score (\ncourse_id INT NOT NULL,\nemail VARCHAR(255) NOT NULL,\ncontinent VARCHAR(255) NOT NULL,\nscore INT NOT NULL,\nPRIMARY KEY (course_id) )",
      "metadata": {
        "trusted": true
      },
      "execution_count": 87,
      "outputs": []
    },
    {
      "cell_type": "code",
      "source": "--insert into course table\n\nINSERT INTO course(id,age, course, fees, course_id)\n\tVALUES ('4401','23', 'Data science', '17000', '501' ),\n\t\t('4402','34', 'Statistic', '15000', '502' ),\n        ('4403','33', 'Statistic', '9800', '502' ),\n        ('4404','24', 'Data analytics', '15000', '504' ),\n        ('4405','29', 'Data mining', '12000', '505' ),\n        ('4406','26', 'Data science ', '11500', '501' ),\n        ('4407','22', 'Data science', '17800', '501' ),\n        ('4408','20', 'Programming ', '8500', '508' ),\n        ('4409','25', 'Data analytics', '10500', '504' ),\n        ('4410','18', 'Data engeneering', '11800', '510' )",
      "metadata": {
        "trusted": true
      },
      "execution_count": 107,
      "outputs": [
        {
          "ename": "Error",
          "evalue": "UNIQUE constraint failed: course.id",
          "traceback": [
            "Error: UNIQUE constraint failed: course.id"
          ],
          "output_type": "error"
        }
      ]
    },
    {
      "cell_type": "code",
      "source": "--insert into score table\n\nINSERT INTO score(course_id, email, Continent, score)\n\tVALUES ('501', 'info@hou.com', 'Africa', '69' ),\n        ('502', 'indf@gmail.com', 'Africa', '73' ),\n        ('502', 'info@gmail.com', 'Africa', '89' ),\n        ('504', 'ghs@hahoo.com', 'Canada', '75' ),\n        ('505', 'yull@gmail.com', 'USA', '87' ),\n        ('501', 'info@outlook.com', 'Europ', '79' ),\n        ('501', 'ind@gmail.com', 'USA', '77' ),\n        ('508', 'mai@gmai.com', 'Canada', '86' ),\n        ('504', 'info@out.com', 'USA', '81' ),\n        ('510', 'info@gmail.com', 'USA', '78' )",
      "metadata": {
        "trusted": true
      },
      "execution_count": 110,
      "outputs": [
        {
          "ename": "Error",
          "evalue": "UNIQUE constraint failed: score.course_id",
          "traceback": [
            "Error: UNIQUE constraint failed: score.course_id"
          ],
          "output_type": "error"
        }
      ]
    },
    {
      "cell_type": "code",
      "source": "--insert into student table\n\nINSERT INTO student(id, name, last_name, birthdate, gender, city)\n\tVALUES  ('4401','Christ', 'Fisher', '2000-01-20', 'Male', 'Cape town' ),\n\t\t('4402','Chaerle', 'Walke', '1989-05-01', 'Male', 'Wymberg' ),\n         ('4403','\tJohn', 'Talovam', '1990-01-7', 'Male', 'Cape town' ),\n         ('4404','Helene', 'Tambwe', '1999-07-12', 'Female', 'Toronto' ),\n         ('4405','Ashley', 'Johnson', '1994-04-11', 'Male', 'Albany' ),\n         ('4406','Janice', 'Rocky', '1997-03-17', 'Female', 'Paris' ),\n         ('4407','Zoe', 'Kab', '2000-05-22', 'Female', 'New york' ),\n         ('4408','Sarah', 'Monro', '2003-04-05', 'Female', 'Montreal' ),\n         ('4409','William', 'Peterson', '1998-09-29', 'Male', 'Chicago' ),\n         ('4410','Matthew', 'Josue', '2005-06-20', 'Male', 'Texas' )\n         ",
      "metadata": {
        "trusted": true
      },
      "execution_count": 111,
      "outputs": [
        {
          "ename": "Error",
          "evalue": "UNIQUE constraint failed: student.id",
          "traceback": [
            "Error: UNIQUE constraint failed: student.id"
          ],
          "output_type": "error"
        }
      ]
    },
    {
      "cell_type": "code",
      "source": "SELECT * FROM student\n",
      "metadata": {
        "trusted": true
      },
      "execution_count": 91,
      "outputs": [
        {
          "execution_count": 91,
          "output_type": "execute_result",
          "data": {
            "text/html": "<table>\n<tr>\n<th>id</th>\n<th>name</th>\n<th>last_name</th>\n<th>birthdate</th>\n<th>gender</th>\n<th>city</th>\n</tr>\n<tr>\n<td>4401</td>\n<td>Christ</td>\n<td>Fisher</td>\n<td>2000-01-20</td>\n<td>Male</td>\n<td>Cape town</td>\n</tr>\n<tr>\n<td>4402</td>\n<td>Chaerle</td>\n<td>Walke</td>\n<td>1989-05-01</td>\n<td>Male</td>\n<td>Wymberg</td>\n</tr>\n<tr>\n<td>4403</td>\n<td>\tJohn</td>\n<td>Talovam</td>\n<td>1990-01-7</td>\n<td>Male</td>\n<td>Cape town</td>\n</tr>\n<tr>\n<td>4404</td>\n<td>Helene</td>\n<td>Tambwe</td>\n<td>1999-07-12</td>\n<td>Female</td>\n<td>Toronto</td>\n</tr>\n<tr>\n<td>4405</td>\n<td>Ashley</td>\n<td>Johnson</td>\n<td>1994-04-11</td>\n<td>Male</td>\n<td>Albany</td>\n</tr>\n<tr>\n<td>4406</td>\n<td>Janice</td>\n<td>Rocky</td>\n<td>1997-03-17</td>\n<td>Female</td>\n<td>Paris</td>\n</tr>\n<tr>\n<td>4407</td>\n<td>Zoe</td>\n<td>Kab</td>\n<td>2000-05-22</td>\n<td>Female</td>\n<td>New york</td>\n</tr>\n<tr>\n<td>4408</td>\n<td>Sarah</td>\n<td>Monro</td>\n<td>2003-04-05</td>\n<td>Female</td>\n<td>Montreal</td>\n</tr>\n<tr>\n<td>4409</td>\n<td>William</td>\n<td>Peterson</td>\n<td>1998-09-29</td>\n<td>Male</td>\n<td>Chicago</td>\n</tr>\n<tr>\n<td>4410</td>\n<td>Matthew</td>\n<td>Josue</td>\n<td>2005-06-20</td>\n<td>Male</td>\n<td>Texas</td>\n</tr>\n</table>",
            "text/plain": "+------+---------+-----------+------------+--------+-----------+\n| id   | name    | last_name | birthdate  | gender | city      |\n+------+---------+-----------+------------+--------+-----------+\n| 4401 | Christ  | Fisher    | 2000-01-20 | Male   | Cape town |\n+------+---------+-----------+------------+--------+-----------+\n| 4402 | Chaerle | Walke     | 1989-05-01 | Male   | Wymberg   |\n+------+---------+-----------+------------+--------+-----------+\n| 4403 | John    | Talovam   | 1990-01-7  | Male   | Cape town |\n+------+---------+-----------+------------+--------+-----------+\n| 4404 | Helene  | Tambwe    | 1999-07-12 | Female | Toronto   |\n+------+---------+-----------+------------+--------+-----------+\n| 4405 | Ashley  | Johnson   | 1994-04-11 | Male   | Albany    |\n+------+---------+-----------+------------+--------+-----------+\n| 4406 | Janice  | Rocky     | 1997-03-17 | Female | Paris     |\n+------+---------+-----------+------------+--------+-----------+\n| 4407 | Zoe     | Kab       | 2000-05-22 | Female | New york  |\n+------+---------+-----------+------------+--------+-----------+\n| 4408 | Sarah   | Monro     | 2003-04-05 | Female | Montreal  |\n+------+---------+-----------+------------+--------+-----------+\n| 4409 | William | Peterson  | 1998-09-29 | Male   | Chicago   |\n+------+---------+-----------+------------+--------+-----------+\n| 4410 | Matthew | Josue     | 2005-06-20 | Male   | Texas     |\n+------+---------+-----------+------------+--------+-----------+"
          },
          "metadata": {}
        }
      ]
    },
    {
      "cell_type": "code",
      "source": "SELECT * FROM course\n",
      "metadata": {
        "trusted": true
      },
      "execution_count": 92,
      "outputs": [
        {
          "execution_count": 92,
          "output_type": "execute_result",
          "data": {
            "text/html": "<table>\n<tr>\n<th>id</th>\n<th>age</th>\n<th>course</th>\n<th>fees</th>\n<th>course_id</th>\n</tr>\n<tr>\n<td>4401</td>\n<td>23</td>\n<td>Data science</td>\n<td>17000</td>\n<td>501</td>\n</tr>\n<tr>\n<td>4402</td>\n<td>34</td>\n<td>Statistic</td>\n<td>15000</td>\n<td>502</td>\n</tr>\n<tr>\n<td>4403</td>\n<td>33</td>\n<td>Statistic</td>\n<td>9800</td>\n<td>503</td>\n</tr>\n<tr>\n<td>4404</td>\n<td>24</td>\n<td>Data analytics</td>\n<td>15000</td>\n<td>504</td>\n</tr>\n<tr>\n<td>4405</td>\n<td>29</td>\n<td>Data mining</td>\n<td>12000</td>\n<td>505</td>\n</tr>\n<tr>\n<td>4406</td>\n<td>26</td>\n<td>Data science </td>\n<td>11500</td>\n<td>506</td>\n</tr>\n<tr>\n<td>4407</td>\n<td>22</td>\n<td>Data science</td>\n<td>17800</td>\n<td>507</td>\n</tr>\n<tr>\n<td>4408</td>\n<td>20</td>\n<td>Programming </td>\n<td>8500</td>\n<td>508</td>\n</tr>\n<tr>\n<td>4409</td>\n<td>25</td>\n<td>Data analytics</td>\n<td>10500</td>\n<td>509</td>\n</tr>\n<tr>\n<td>4410</td>\n<td>18</td>\n<td>Data engeneering</td>\n<td>11800</td>\n<td>510</td>\n</tr>\n</table>",
            "text/plain": "+------+-----+------------------+-------+-----------+\n| id   | age | course           | fees  | course_id |\n+------+-----+------------------+-------+-----------+\n| 4401 | 23  | Data science     | 17000 | 501       |\n+------+-----+------------------+-------+-----------+\n| 4402 | 34  | Statistic        | 15000 | 502       |\n+------+-----+------------------+-------+-----------+\n| 4403 | 33  | Statistic        | 9800  | 503       |\n+------+-----+------------------+-------+-----------+\n| 4404 | 24  | Data analytics   | 15000 | 504       |\n+------+-----+------------------+-------+-----------+\n| 4405 | 29  | Data mining      | 12000 | 505       |\n+------+-----+------------------+-------+-----------+\n| 4406 | 26  | Data science     | 11500 | 506       |\n+------+-----+------------------+-------+-----------+\n| 4407 | 22  | Data science     | 17800 | 507       |\n+------+-----+------------------+-------+-----------+\n| 4408 | 20  | Programming      | 8500  | 508       |\n+------+-----+------------------+-------+-----------+\n| 4409 | 25  | Data analytics   | 10500 | 509       |\n+------+-----+------------------+-------+-----------+\n| 4410 | 18  | Data engeneering | 11800 | 510       |\n+------+-----+------------------+-------+-----------+"
          },
          "metadata": {}
        }
      ]
    },
    {
      "cell_type": "code",
      "source": "SELECT * FROM score",
      "metadata": {
        "trusted": true
      },
      "execution_count": 93,
      "outputs": [
        {
          "execution_count": 93,
          "output_type": "execute_result",
          "data": {
            "text/html": "<table>\n<tr>\n<th>course_id</th>\n<th>email</th>\n<th>continent</th>\n<th>score</th>\n</tr>\n<tr>\n<td>501</td>\n<td>info@hou.com</td>\n<td>Africa</td>\n<td>69</td>\n</tr>\n<tr>\n<td>502</td>\n<td>indf@gmail.com</td>\n<td>Africa</td>\n<td>73</td>\n</tr>\n<tr>\n<td>503</td>\n<td>info@gmail.com</td>\n<td>Africa</td>\n<td>89</td>\n</tr>\n<tr>\n<td>504</td>\n<td>ghs@hahoo.com</td>\n<td>Canada</td>\n<td>75</td>\n</tr>\n<tr>\n<td>505</td>\n<td>yull@gmail.com</td>\n<td>USA</td>\n<td>87</td>\n</tr>\n<tr>\n<td>506</td>\n<td>info@outlook.com</td>\n<td>Europ</td>\n<td>79</td>\n</tr>\n<tr>\n<td>507</td>\n<td>ind@gmail.com</td>\n<td>USA</td>\n<td>77</td>\n</tr>\n<tr>\n<td>508</td>\n<td>mai@gmai.com</td>\n<td>Canada</td>\n<td>86</td>\n</tr>\n<tr>\n<td>509</td>\n<td>info@out.com</td>\n<td>USA</td>\n<td>81</td>\n</tr>\n<tr>\n<td>510</td>\n<td>info@gmail.com</td>\n<td>USA</td>\n<td>78</td>\n</tr>\n</table>",
            "text/plain": "+-----------+------------------+-----------+-------+\n| course_id | email            | continent | score |\n+-----------+------------------+-----------+-------+\n| 501       | info@hou.com     | Africa    | 69    |\n+-----------+------------------+-----------+-------+\n| 502       | indf@gmail.com   | Africa    | 73    |\n+-----------+------------------+-----------+-------+\n| 503       | info@gmail.com   | Africa    | 89    |\n+-----------+------------------+-----------+-------+\n| 504       | ghs@hahoo.com    | Canada    | 75    |\n+-----------+------------------+-----------+-------+\n| 505       | yull@gmail.com   | USA       | 87    |\n+-----------+------------------+-----------+-------+\n| 506       | info@outlook.com | Europ     | 79    |\n+-----------+------------------+-----------+-------+\n| 507       | ind@gmail.com    | USA       | 77    |\n+-----------+------------------+-----------+-------+\n| 508       | mai@gmai.com     | Canada    | 86    |\n+-----------+------------------+-----------+-------+\n| 509       | info@out.com     | USA       | 81    |\n+-----------+------------------+-----------+-------+\n| 510       | info@gmail.com   | USA       | 78    |\n+-----------+------------------+-----------+-------+"
          },
          "metadata": {}
        }
      ]
    },
    {
      "cell_type": "code",
      "source": "SELECT Gender,\n COUNT(*) AS NUM\nFROM student\nGroup by Gender",
      "metadata": {
        "trusted": true
      },
      "execution_count": 12,
      "outputs": [
        {
          "execution_count": 12,
          "output_type": "execute_result",
          "data": {
            "text/html": "<table>\n<tr>\n<th>gender</th>\n<th>NUM</th>\n</tr>\n<tr>\n<td>Female</td>\n<td>4</td>\n</tr>\n<tr>\n<td>Male</td>\n<td>6</td>\n</tr>\n</table>",
            "text/plain": "+--------+-----+\n| gender | NUM |\n+--------+-----+\n| Female | 4   |\n+--------+-----+\n| Male   | 6   |\n+--------+-----+"
          },
          "metadata": {}
        }
      ]
    },
    {
      "cell_type": "code",
      "source": "SELECT city,\nCOUNT(city) as num_city\nFROM student\nGROUP BY city\nHAVING COUNT(city) > 1",
      "metadata": {
        "trusted": true
      },
      "execution_count": 17,
      "outputs": [
        {
          "execution_count": 17,
          "output_type": "execute_result",
          "data": {
            "text/html": "<table>\n<tr>\n<th>city</th>\n<th>num_city</th>\n</tr>\n<tr>\n<td>Cape town</td>\n<td>2</td>\n</tr>\n</table>",
            "text/plain": "+-----------+----------+\n| city      | num_city |\n+-----------+----------+\n| Cape town | 2        |\n+-----------+----------+"
          },
          "metadata": {}
        }
      ]
    },
    {
      "cell_type": "code",
      "source": "SELECT *\nFROM student\nWHERE city = 'Cape town'",
      "metadata": {
        "trusted": true
      },
      "execution_count": 27,
      "outputs": [
        {
          "execution_count": 27,
          "output_type": "execute_result",
          "data": {
            "text/html": "<table>\n<tr>\n<th>id</th>\n<th>name</th>\n<th>last_name</th>\n<th>birthdate</th>\n<th>gender</th>\n<th>city</th>\n</tr>\n<tr>\n<td>4401</td>\n<td>Christ</td>\n<td>Fisher</td>\n<td>2000-01-20</td>\n<td>Male</td>\n<td>Cape town</td>\n</tr>\n<tr>\n<td>4403</td>\n<td>\tJohn</td>\n<td>Talovam</td>\n<td>1990-01-7</td>\n<td>Male</td>\n<td>Cape town</td>\n</tr>\n</table>",
            "text/plain": "+------+--------+-----------+------------+--------+-----------+\n| id   | name   | last_name | birthdate  | gender | city      |\n+------+--------+-----------+------------+--------+-----------+\n| 4401 | Christ | Fisher    | 2000-01-20 | Male   | Cape town |\n+------+--------+-----------+------------+--------+-----------+\n| 4403 | John   | Talovam   | 1990-01-7  | Male   | Cape town |\n+------+--------+-----------+------------+--------+-----------+"
          },
          "metadata": {}
        }
      ]
    },
    {
      "cell_type": "code",
      "source": "SELECT st.name, st.last_name, st.birthdate,co.course, co.fees\nFROM student as st\nJOIN course as co\nON st.id = co.id\nWHERE co.fees > 10000\nORDER BY 1,2\n",
      "metadata": {
        "trusted": true
      },
      "execution_count": 30,
      "outputs": [
        {
          "execution_count": 30,
          "output_type": "execute_result",
          "data": {
            "text/html": "<table>\n<tr>\n<th>name</th>\n<th>last_name</th>\n<th>birthdate</th>\n<th>course</th>\n<th>fees</th>\n</tr>\n<tr>\n<td>Ashley</td>\n<td>Johnson</td>\n<td>1994-04-11</td>\n<td>Data mining</td>\n<td>12000</td>\n</tr>\n<tr>\n<td>Chaerle</td>\n<td>Walke</td>\n<td>1989-05-01</td>\n<td>Statistic</td>\n<td>15000</td>\n</tr>\n<tr>\n<td>Christ</td>\n<td>Fisher</td>\n<td>2000-01-20</td>\n<td>Data science</td>\n<td>17000</td>\n</tr>\n<tr>\n<td>Helene</td>\n<td>Tambwe</td>\n<td>1999-07-12</td>\n<td>Data analyst</td>\n<td>15000</td>\n</tr>\n<tr>\n<td>Janice</td>\n<td>Rocky</td>\n<td>1997-03-17</td>\n<td>IT </td>\n<td>11500</td>\n</tr>\n<tr>\n<td>Matthew</td>\n<td>Josue</td>\n<td>2005-06-20</td>\n<td>Physics</td>\n<td>11800</td>\n</tr>\n<tr>\n<td>William</td>\n<td>Peterson</td>\n<td>1998-09-29</td>\n<td>Data Engeering</td>\n<td>10500</td>\n</tr>\n<tr>\n<td>Zoe</td>\n<td>Kab</td>\n<td>2000-05-22</td>\n<td>Science</td>\n<td>17800</td>\n</tr>\n</table>",
            "text/plain": "+---------+-----------+------------+----------------+-------+\n| name    | last_name | birthdate  | course         | fees  |\n+---------+-----------+------------+----------------+-------+\n| Ashley  | Johnson   | 1994-04-11 | Data mining    | 12000 |\n+---------+-----------+------------+----------------+-------+\n| Chaerle | Walke     | 1989-05-01 | Statistic      | 15000 |\n+---------+-----------+------------+----------------+-------+\n| Christ  | Fisher    | 2000-01-20 | Data science   | 17000 |\n+---------+-----------+------------+----------------+-------+\n| Helene  | Tambwe    | 1999-07-12 | Data analyst   | 15000 |\n+---------+-----------+------------+----------------+-------+\n| Janice  | Rocky     | 1997-03-17 | IT             | 11500 |\n+---------+-----------+------------+----------------+-------+\n| Matthew | Josue     | 2005-06-20 | Physics        | 11800 |\n+---------+-----------+------------+----------------+-------+\n| William | Peterson  | 1998-09-29 | Data Engeering | 10500 |\n+---------+-----------+------------+----------------+-------+\n| Zoe     | Kab       | 2000-05-22 | Science        | 17800 |\n+---------+-----------+------------+----------------+-------+"
          },
          "metadata": {}
        }
      ]
    },
    {
      "cell_type": "code",
      "source": "SELECT st.name, st.last_name, st.birthdate,co.course, co.fees\nFROM student as st\nJOIN course as co\nON st.id = co.id\nWHERE co.course = 'Data analyst' \nORDER BY 1,2\n",
      "metadata": {
        "trusted": true
      },
      "execution_count": 32,
      "outputs": [
        {
          "execution_count": 32,
          "output_type": "execute_result",
          "data": {
            "text/html": "<table>\n<tr>\n<th>name</th>\n<th>last_name</th>\n<th>birthdate</th>\n<th>course</th>\n<th>fees</th>\n</tr>\n<tr>\n<td>Helene</td>\n<td>Tambwe</td>\n<td>1999-07-12</td>\n<td>Data analyst</td>\n<td>15000</td>\n</tr>\n</table>",
            "text/plain": "+--------+-----------+------------+--------------+-------+\n| name   | last_name | birthdate  | course       | fees  |\n+--------+-----------+------------+--------------+-------+\n| Helene | Tambwe    | 1999-07-12 | Data analyst | 15000 |\n+--------+-----------+------------+--------------+-------+"
          },
          "metadata": {}
        }
      ]
    },
    {
      "cell_type": "code",
      "source": "--- let's check the city of the student that have more than 1 course\n\nSELECT Count(co.course) AS num_course, st.city\nFROM student as st\nJOIN course as co\nON st.id = co.id\nGROUP BY st.city\nHAVING COUNT(co.course) > 1",
      "metadata": {
        "trusted": true
      },
      "execution_count": 33,
      "outputs": [
        {
          "execution_count": 33,
          "output_type": "execute_result",
          "data": {
            "text/html": "<table>\n<tr>\n<th>num_course</th>\n<th>city</th>\n</tr>\n<tr>\n<td>2</td>\n<td>Cape town</td>\n</tr>\n</table>",
            "text/plain": "+------------+-----------+\n| num_course | city      |\n+------------+-----------+\n| 2          | Cape town |\n+------------+-----------+"
          },
          "metadata": {}
        }
      ]
    },
    {
      "cell_type": "code",
      "source": "--- Let's manupilate the cte statement and see the performance of the student with case statement\n\n\nWITH cte AS (SELECT st.name, st.last_name, co.course,\n\t   CASE WHEN sc.score = 90 then 'A+'\n\t\tWHEN sc.score between 80 and 90 Then 'A'\n\t\tWHEN sc.score between 60 and 80 then 'B'\n\t\tELSE 'C' END AS performance\nFROM student as st\nJOIN course as co\nON st.id = co.id\nLEFT JOIN score as sc\nON sc.course_id = co.course_id)\n\nSELECT  performance,\n    COUNT(*) AS NUM\nFROM cte\nGROUP BY performance ",
      "metadata": {
        "trusted": true
      },
      "execution_count": 42,
      "outputs": [
        {
          "execution_count": 42,
          "output_type": "execute_result",
          "data": {
            "text/html": "<table>\n<tr>\n<th>performance</th>\n<th>NUM</th>\n</tr>\n<tr>\n<td>A</td>\n<td>4</td>\n</tr>\n<tr>\n<td>B</td>\n<td>6</td>\n</tr>\n</table>",
            "text/plain": "+-------------+-----+\n| performance | NUM |\n+-------------+-----+\n| A           | 4   |\n+-------------+-----+\n| B           | 6   |\n+-------------+-----+"
          },
          "metadata": {}
        }
      ]
    },
    {
      "cell_type": "code",
      "source": "--- let's see what gender has highest score by joining the tree tables\nSELECT st.gender, sc.continent,\n AVG(sc.score) as Avg_score,\n Min(sc.score) as Min_score,\n Max(sc.score) as Max_score\nFROM student as st\nJOIN course as co\nON st.id = co.id\nLEFT JOIN score as sc\nON sc.course_id = co.course_id\nGROUP BY st.gender, sc.continent\nORDER BY Max_score DESC",
      "metadata": {
        "trusted": true
      },
      "execution_count": 45,
      "outputs": [
        {
          "execution_count": 45,
          "output_type": "execute_result",
          "data": {
            "text/html": "<table>\n<tr>\n<th>gender</th>\n<th>continent</th>\n<th>Avg_score</th>\n<th>Min_score</th>\n<th>Max_score</th>\n</tr>\n<tr>\n<td>Male</td>\n<td>Africa</td>\n<td>77.0</td>\n<td>69</td>\n<td>89</td>\n</tr>\n<tr>\n<td>Male</td>\n<td>USA</td>\n<td>82.0</td>\n<td>78</td>\n<td>87</td>\n</tr>\n<tr>\n<td>Female</td>\n<td>Canada</td>\n<td>80.5</td>\n<td>75</td>\n<td>86</td>\n</tr>\n<tr>\n<td>Female</td>\n<td>Europ</td>\n<td>79.0</td>\n<td>79</td>\n<td>79</td>\n</tr>\n<tr>\n<td>Female</td>\n<td>USA</td>\n<td>77.0</td>\n<td>77</td>\n<td>77</td>\n</tr>\n</table>",
            "text/plain": "+--------+-----------+-----------+-----------+-----------+\n| gender | continent | Avg_score | Min_score | Max_score |\n+--------+-----------+-----------+-----------+-----------+\n| Male   | Africa    | 77.0      | 69        | 89        |\n+--------+-----------+-----------+-----------+-----------+\n| Male   | USA       | 82.0      | 78        | 87        |\n+--------+-----------+-----------+-----------+-----------+\n| Female | Canada    | 80.5      | 75        | 86        |\n+--------+-----------+-----------+-----------+-----------+\n| Female | Europ     | 79.0      | 79        | 79        |\n+--------+-----------+-----------+-----------+-----------+\n| Female | USA       | 77.0      | 77        | 77        |\n+--------+-----------+-----------+-----------+-----------+"
          },
          "metadata": {}
        }
      ]
    },
    {
      "cell_type": "code",
      "source": "---Select the all column from all the tables\nSELECT *\nFROM student as st\nJOIN course as co\nON st.id = co.id\nLEFT JOIN score as sc\nON sc.course_id = co.course_id\nORDER BY 1,2\n--The table will be export for more analysis",
      "metadata": {
        "trusted": true
      },
      "execution_count": 63,
      "outputs": [
        {
          "execution_count": 63,
          "output_type": "execute_result",
          "data": {
            "text/html": "<table>\n<tr>\n<th>id</th>\n<th>name</th>\n<th>last_name</th>\n<th>birthdate</th>\n<th>gender</th>\n<th>city</th>\n<th>id</th>\n<th>age</th>\n<th>course</th>\n<th>fees</th>\n<th>course_id</th>\n<th>course_id</th>\n<th>email</th>\n<th>continent</th>\n<th>score</th>\n</tr>\n<tr>\n<td>4401</td>\n<td>Christ</td>\n<td>Fisher</td>\n<td>2000-01-20</td>\n<td>Male</td>\n<td>Cape town</td>\n<td>4401</td>\n<td>23</td>\n<td>Data science</td>\n<td>17000</td>\n<td>501</td>\n<td>501</td>\n<td>info@hou.com</td>\n<td>Africa</td>\n<td>69</td>\n</tr>\n<tr>\n<td>4402</td>\n<td>Chaerle</td>\n<td>Walke</td>\n<td>1989-05-01</td>\n<td>Male</td>\n<td>Wymberg</td>\n<td>4402</td>\n<td>34</td>\n<td>Statistic</td>\n<td>15000</td>\n<td>502</td>\n<td>502</td>\n<td>indf@gmail.com</td>\n<td>Africa</td>\n<td>73</td>\n</tr>\n<tr>\n<td>4403</td>\n<td>\tJohn</td>\n<td>Talovam</td>\n<td>1990-01-7</td>\n<td>Male</td>\n<td>Cape town</td>\n<td>4403</td>\n<td>33</td>\n<td>Philosophy</td>\n<td>9800</td>\n<td>503</td>\n<td>503</td>\n<td>info@gmail.com</td>\n<td>Africa</td>\n<td>89</td>\n</tr>\n<tr>\n<td>4404</td>\n<td>Helene</td>\n<td>Tambwe</td>\n<td>1999-07-12</td>\n<td>Female</td>\n<td>Toronto</td>\n<td>4404</td>\n<td>24</td>\n<td>Data analyst</td>\n<td>15000</td>\n<td>504</td>\n<td>504</td>\n<td>ghs@hahoo.com</td>\n<td>Canada</td>\n<td>75</td>\n</tr>\n<tr>\n<td>4405</td>\n<td>Ashley</td>\n<td>Johnson</td>\n<td>1994-04-11</td>\n<td>Male</td>\n<td>Albany</td>\n<td>4405</td>\n<td>29</td>\n<td>Data mining</td>\n<td>12000</td>\n<td>505</td>\n<td>505</td>\n<td>yull@gmail.com</td>\n<td>USA</td>\n<td>87</td>\n</tr>\n<tr>\n<td>4406</td>\n<td>Janice</td>\n<td>Rocky</td>\n<td>1997-03-17</td>\n<td>Female</td>\n<td>Paris</td>\n<td>4406</td>\n<td>26</td>\n<td>IT </td>\n<td>11500</td>\n<td>506</td>\n<td>506</td>\n<td>info@outlook.com</td>\n<td>Europ</td>\n<td>79</td>\n</tr>\n<tr>\n<td>4407</td>\n<td>Zoe</td>\n<td>Kab</td>\n<td>2000-05-22</td>\n<td>Female</td>\n<td>New york</td>\n<td>4407</td>\n<td>22</td>\n<td>Science</td>\n<td>17800</td>\n<td>507</td>\n<td>507</td>\n<td>ind@gmail.com</td>\n<td>USA</td>\n<td>77</td>\n</tr>\n<tr>\n<td>4408</td>\n<td>Sarah</td>\n<td>Monro</td>\n<td>2003-04-05</td>\n<td>Female</td>\n<td>Montreal</td>\n<td>4408</td>\n<td>20</td>\n<td>Programming </td>\n<td>8500</td>\n<td>508</td>\n<td>508</td>\n<td>mai@gmai.com</td>\n<td>Canada</td>\n<td>86</td>\n</tr>\n<tr>\n<td>4409</td>\n<td>William</td>\n<td>Peterson</td>\n<td>1998-09-29</td>\n<td>Male</td>\n<td>Chicago</td>\n<td>4409</td>\n<td>25</td>\n<td>Data Engeering</td>\n<td>10500</td>\n<td>509</td>\n<td>509</td>\n<td>info@out.com</td>\n<td>USA</td>\n<td>81</td>\n</tr>\n<tr>\n<td>4410</td>\n<td>Matthew</td>\n<td>Josue</td>\n<td>2005-06-20</td>\n<td>Male</td>\n<td>Texas</td>\n<td>4410</td>\n<td>18</td>\n<td>Physics</td>\n<td>11800</td>\n<td>510</td>\n<td>510</td>\n<td>info@gmail.com</td>\n<td>USA</td>\n<td>78</td>\n</tr>\n</table>",
            "text/plain": "+------+---------+-----------+------------+--------+-----------+------+-----+----------------+-------+-----------+-----------+------------------+-----------+-------+\n| id   | name    | last_name | birthdate  | gender | city      | id   | age | course         | fees  | course_id | course_id | email            | continent | score |\n+------+---------+-----------+------------+--------+-----------+------+-----+----------------+-------+-----------+-----------+------------------+-----------+-------+\n| 4401 | Christ  | Fisher    | 2000-01-20 | Male   | Cape town | 4401 | 23  | Data science   | 17000 | 501       | 501       | info@hou.com     | Africa    | 69    |\n+------+---------+-----------+------------+--------+-----------+------+-----+----------------+-------+-----------+-----------+------------------+-----------+-------+\n| 4402 | Chaerle | Walke     | 1989-05-01 | Male   | Wymberg   | 4402 | 34  | Statistic      | 15000 | 502       | 502       | indf@gmail.com   | Africa    | 73    |\n+------+---------+-----------+------------+--------+-----------+------+-----+----------------+-------+-----------+-----------+------------------+-----------+-------+\n| 4403 | John    | Talovam   | 1990-01-7  | Male   | Cape town | 4403 | 33  | Philosophy     | 9800  | 503       | 503       | info@gmail.com   | Africa    | 89    |\n+------+---------+-----------+------------+--------+-----------+------+-----+----------------+-------+-----------+-----------+------------------+-----------+-------+\n| 4404 | Helene  | Tambwe    | 1999-07-12 | Female | Toronto   | 4404 | 24  | Data analyst   | 15000 | 504       | 504       | ghs@hahoo.com    | Canada    | 75    |\n+------+---------+-----------+------------+--------+-----------+------+-----+----------------+-------+-----------+-----------+------------------+-----------+-------+\n| 4405 | Ashley  | Johnson   | 1994-04-11 | Male   | Albany    | 4405 | 29  | Data mining    | 12000 | 505       | 505       | yull@gmail.com   | USA       | 87    |\n+------+---------+-----------+------------+--------+-----------+------+-----+----------------+-------+-----------+-----------+------------------+-----------+-------+\n| 4406 | Janice  | Rocky     | 1997-03-17 | Female | Paris     | 4406 | 26  | IT             | 11500 | 506       | 506       | info@outlook.com | Europ     | 79    |\n+------+---------+-----------+------------+--------+-----------+------+-----+----------------+-------+-----------+-----------+------------------+-----------+-------+\n| 4407 | Zoe     | Kab       | 2000-05-22 | Female | New york  | 4407 | 22  | Science        | 17800 | 507       | 507       | ind@gmail.com    | USA       | 77    |\n+------+---------+-----------+------------+--------+-----------+------+-----+----------------+-------+-----------+-----------+------------------+-----------+-------+\n| 4408 | Sarah   | Monro     | 2003-04-05 | Female | Montreal  | 4408 | 20  | Programming    | 8500  | 508       | 508       | mai@gmai.com     | Canada    | 86    |\n+------+---------+-----------+------------+--------+-----------+------+-----+----------------+-------+-----------+-----------+------------------+-----------+-------+\n| 4409 | William | Peterson  | 1998-09-29 | Male   | Chicago   | 4409 | 25  | Data Engeering | 10500 | 509       | 509       | info@out.com     | USA       | 81    |\n+------+---------+-----------+------------+--------+-----------+------+-----+----------------+-------+-----------+-----------+------------------+-----------+-------+\n| 4410 | Matthew | Josue     | 2005-06-20 | Male   | Texas     | 4410 | 18  | Physics        | 11800 | 510       | 510       | info@gmail.com   | USA       | 78    |\n+------+---------+-----------+------------+--------+-----------+------+-----+----------------+-------+-----------+-----------+------------------+-----------+-------+"
          },
          "metadata": {}
        }
      ]
    },
    {
      "cell_type": "code",
      "source": "---Select the all important column from different table\nSELECT st.id, st.birthdate, st.city, st.name, st.last_name, st.birthdate, co.course, co.fees, sc.score\nFROM student as st\nJOIN course as co\nON st.id = co.id\nLEFT JOIN score as sc\nON sc.course_id = co.course_id\nORDER BY 1,2\n--The table will be export for more analysis\n",
      "metadata": {
        "trusted": true
      },
      "execution_count": 47,
      "outputs": [
        {
          "execution_count": 47,
          "output_type": "execute_result",
          "data": {
            "text/html": "<table>\n<tr>\n<th>id</th>\n<th>birthdate</th>\n<th>city</th>\n<th>name</th>\n<th>last_name</th>\n<th>birthdate</th>\n<th>course</th>\n<th>fees</th>\n<th>score</th>\n</tr>\n<tr>\n<td>4401</td>\n<td>2000-01-20</td>\n<td>Cape town</td>\n<td>Christ</td>\n<td>Fisher</td>\n<td>2000-01-20</td>\n<td>Data science</td>\n<td>17000</td>\n<td>69</td>\n</tr>\n<tr>\n<td>4402</td>\n<td>1989-05-01</td>\n<td>Wymberg</td>\n<td>Chaerle</td>\n<td>Walke</td>\n<td>1989-05-01</td>\n<td>Statistic</td>\n<td>15000</td>\n<td>73</td>\n</tr>\n<tr>\n<td>4403</td>\n<td>1990-01-7</td>\n<td>Cape town</td>\n<td>\tJohn</td>\n<td>Talovam</td>\n<td>1990-01-7</td>\n<td>Philosophy</td>\n<td>9800</td>\n<td>89</td>\n</tr>\n<tr>\n<td>4404</td>\n<td>1999-07-12</td>\n<td>Toronto</td>\n<td>Helene</td>\n<td>Tambwe</td>\n<td>1999-07-12</td>\n<td>Data analyst</td>\n<td>15000</td>\n<td>75</td>\n</tr>\n<tr>\n<td>4405</td>\n<td>1994-04-11</td>\n<td>Albany</td>\n<td>Ashley</td>\n<td>Johnson</td>\n<td>1994-04-11</td>\n<td>Data mining</td>\n<td>12000</td>\n<td>87</td>\n</tr>\n<tr>\n<td>4406</td>\n<td>1997-03-17</td>\n<td>Paris</td>\n<td>Janice</td>\n<td>Rocky</td>\n<td>1997-03-17</td>\n<td>IT </td>\n<td>11500</td>\n<td>79</td>\n</tr>\n<tr>\n<td>4407</td>\n<td>2000-05-22</td>\n<td>New york</td>\n<td>Zoe</td>\n<td>Kab</td>\n<td>2000-05-22</td>\n<td>Science</td>\n<td>17800</td>\n<td>77</td>\n</tr>\n<tr>\n<td>4408</td>\n<td>2003-04-05</td>\n<td>Montreal</td>\n<td>Sarah</td>\n<td>Monro</td>\n<td>2003-04-05</td>\n<td>Programming </td>\n<td>8500</td>\n<td>86</td>\n</tr>\n<tr>\n<td>4409</td>\n<td>1998-09-29</td>\n<td>Chicago</td>\n<td>William</td>\n<td>Peterson</td>\n<td>1998-09-29</td>\n<td>Data Engeering</td>\n<td>10500</td>\n<td>81</td>\n</tr>\n<tr>\n<td>4410</td>\n<td>2005-06-20</td>\n<td>Texas</td>\n<td>Matthew</td>\n<td>Josue</td>\n<td>2005-06-20</td>\n<td>Physics</td>\n<td>11800</td>\n<td>78</td>\n</tr>\n</table>",
            "text/plain": "+------+------------+-----------+---------+-----------+------------+----------------+-------+-------+\n| id   | birthdate  | city      | name    | last_name | birthdate  | course         | fees  | score |\n+------+------------+-----------+---------+-----------+------------+----------------+-------+-------+\n| 4401 | 2000-01-20 | Cape town | Christ  | Fisher    | 2000-01-20 | Data science   | 17000 | 69    |\n+------+------------+-----------+---------+-----------+------------+----------------+-------+-------+\n| 4402 | 1989-05-01 | Wymberg   | Chaerle | Walke     | 1989-05-01 | Statistic      | 15000 | 73    |\n+------+------------+-----------+---------+-----------+------------+----------------+-------+-------+\n| 4403 | 1990-01-7  | Cape town | John    | Talovam   | 1990-01-7  | Philosophy     | 9800  | 89    |\n+------+------------+-----------+---------+-----------+------------+----------------+-------+-------+\n| 4404 | 1999-07-12 | Toronto   | Helene  | Tambwe    | 1999-07-12 | Data analyst   | 15000 | 75    |\n+------+------------+-----------+---------+-----------+------------+----------------+-------+-------+\n| 4405 | 1994-04-11 | Albany    | Ashley  | Johnson   | 1994-04-11 | Data mining    | 12000 | 87    |\n+------+------------+-----------+---------+-----------+------------+----------------+-------+-------+\n| 4406 | 1997-03-17 | Paris     | Janice  | Rocky     | 1997-03-17 | IT             | 11500 | 79    |\n+------+------------+-----------+---------+-----------+------------+----------------+-------+-------+\n| 4407 | 2000-05-22 | New york  | Zoe     | Kab       | 2000-05-22 | Science        | 17800 | 77    |\n+------+------------+-----------+---------+-----------+------------+----------------+-------+-------+\n| 4408 | 2003-04-05 | Montreal  | Sarah   | Monro     | 2003-04-05 | Programming    | 8500  | 86    |\n+------+------------+-----------+---------+-----------+------------+----------------+-------+-------+\n| 4409 | 1998-09-29 | Chicago   | William | Peterson  | 1998-09-29 | Data Engeering | 10500 | 81    |\n+------+------------+-----------+---------+-----------+------------+----------------+-------+-------+\n| 4410 | 2005-06-20 | Texas     | Matthew | Josue     | 2005-06-20 | Physics        | 11800 | 78    |\n+------+------------+-----------+---------+-----------+------------+----------------+-------+-------+"
          },
          "metadata": {}
        }
      ]
    },
    {
      "cell_type": "code",
      "source": "%XVEGA_PLOT\n    X_FIELD score\n    Y_FIELD fees\n    MARK circle\n    WIDTH 200\n    HEIGHT 200\n    <>\n    SELECT co.course, co.fees, sc.score\n    FROM student as st\n    JOIN course as co\n    ON st.id = co.id\n    LEFT JOIN score as sc\n    ON sc.course_id = co.course_id\n    ORDER BY 1,2\n--The table will be export for more analysis",
      "metadata": {
        "trusted": true
      },
      "execution_count": 61,
      "outputs": [
        {
          "execution_count": 61,
          "output_type": "execute_result",
          "data": {
            "text/html": "<table>\n<tr>\n<th>course</th>\n<th>fees</th>\n<th>score</th>\n</tr>\n<tr>\n<td>Data Engeering</td>\n<td>10500</td>\n<td>81</td>\n</tr>\n<tr>\n<td>Data analyst</td>\n<td>15000</td>\n<td>75</td>\n</tr>\n<tr>\n<td>Data mining</td>\n<td>12000</td>\n<td>87</td>\n</tr>\n<tr>\n<td>Data science</td>\n<td>17000</td>\n<td>69</td>\n</tr>\n<tr>\n<td>IT </td>\n<td>11500</td>\n<td>79</td>\n</tr>\n<tr>\n<td>Philosophy</td>\n<td>9800</td>\n<td>89</td>\n</tr>\n<tr>\n<td>Physics</td>\n<td>11800</td>\n<td>78</td>\n</tr>\n<tr>\n<td>Programming </td>\n<td>8500</td>\n<td>86</td>\n</tr>\n<tr>\n<td>Science</td>\n<td>17800</td>\n<td>77</td>\n</tr>\n<tr>\n<td>Statistic</td>\n<td>15000</td>\n<td>73</td>\n</tr>\n</table>",
            "text/plain": "+----------------+-------+-------+\n| course         | fees  | score |\n+----------------+-------+-------+\n| Data Engeering | 10500 | 81    |\n+----------------+-------+-------+\n| Data analyst   | 15000 | 75    |\n+----------------+-------+-------+\n| Data mining    | 12000 | 87    |\n+----------------+-------+-------+\n| Data science   | 17000 | 69    |\n+----------------+-------+-------+\n| IT             | 11500 | 79    |\n+----------------+-------+-------+\n| Philosophy     | 9800  | 89    |\n+----------------+-------+-------+\n| Physics        | 11800 | 78    |\n+----------------+-------+-------+\n| Programming    | 8500  | 86    |\n+----------------+-------+-------+\n| Science        | 17800 | 77    |\n+----------------+-------+-------+\n| Statistic      | 15000 | 73    |\n+----------------+-------+-------+"
          },
          "metadata": {}
        },
        {
          "execution_count": 61,
          "output_type": "execute_result",
          "data": {
            "application/vnd.vegalite.v3+json": {
              "$schema": "https://vega.github.io/schema/vega-lite/v4.json",
              "config": {
                "axis": {
                  "grid": true
                }
              },
              "data": {
                "values": [
                  {
                    "course": "name",
                    "fees": "name",
                    "score": "name"
                  },
                  {
                    "course": "Data Engeering",
                    "fees": "10500",
                    "score": "81"
                  },
                  {
                    "course": "Data analyst",
                    "fees": "15000",
                    "score": "75"
                  },
                  {
                    "course": "Data mining",
                    "fees": "12000",
                    "score": "87"
                  },
                  {
                    "course": "Data science",
                    "fees": "17000",
                    "score": "69"
                  },
                  {
                    "course": "IT ",
                    "fees": "11500",
                    "score": "79"
                  },
                  {
                    "course": "Philosophy",
                    "fees": "9800",
                    "score": "89"
                  },
                  {
                    "course": "Physics",
                    "fees": "11800",
                    "score": "78"
                  },
                  {
                    "course": "Programming ",
                    "fees": "8500",
                    "score": "86"
                  },
                  {
                    "course": "Science",
                    "fees": "17800",
                    "score": "77"
                  },
                  {
                    "course": "Statistic",
                    "fees": "15000",
                    "score": "73"
                  }
                ]
              },
              "encoding": {
                "x": {
                  "field": "score",
                  "type": "quantitative"
                },
                "y": {
                  "field": "fees",
                  "type": "quantitative"
                }
              },
              "height": 200,
              "mark": {
                "type": "circle"
              },
              "width": 200
            },
            "image/png": "[encoded data removed]"
          },
          "metadata": {}
        }
      ]
    },
    {
      "cell_type": "code",
      "source": "",
      "metadata": {},
      "execution_count": null,
      "outputs": []
    },
    {
      "cell_type": "code",
      "source": "",
      "metadata": {},
      "execution_count": null,
      "outputs": []
    }
  ]
}